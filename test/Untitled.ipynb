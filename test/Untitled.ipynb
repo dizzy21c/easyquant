{
 "cells": [
  {
   "cell_type": "code",
   "execution_count": 27,
   "metadata": {},
   "outputs": [],
   "source": [
    "from easyquant import MongoIo\n",
    "from easyquant.indicator.base import *\n",
    "import easyquotation\n",
    "import math\n",
    "import numpy as np\n",
    "import pandas as pd\n",
    "from easyquant import MongoIo\n",
    "# from easyquant.qafetch import QATdx as tdx\n",
    "from easyquant.indicator.base import *\n",
    "import pandas as pd\n",
    "from easyquant import EasyTime\n",
    "from datetime import datetime, time\n",
    "from ctypes import * \n",
    "# import datetime\n",
    "import math\n",
    "import numpy as np\n",
    "import pandas as pd\n",
    "# from ctypes import * \n",
    "# import time"
   ]
  },
  {
   "cell_type": "code",
   "execution_count": 3,
   "metadata": {},
   "outputs": [],
   "source": [
    "m=MongoIo()"
   ]
  },
  {
   "cell_type": "code",
   "execution_count": null,
   "metadata": {},
   "outputs": [],
   "source": [
    "datam=m.get_stock_day('000758',st_start='2020-02-01', st_end='2020-12-02')"
   ]
  },
  {
   "cell_type": "code",
   "execution_count": null,
   "metadata": {},
   "outputs": [],
   "source": [
    "C=datam.close\n",
    "L=datam.low\n",
    "H=datam.high\n",
    "O=datam.open\n",
    "VOL=datam.vol\n",
    "AMOUNT=datam.amount"
   ]
  },
  {
   "cell_type": "code",
   "execution_count": null,
   "metadata": {},
   "outputs": [],
   "source": [
    "P1=6;\n",
    "P2=4;\n",
    "P3=13;\n",
    "A=(3*C+L+O+H)/6;\n",
    "SSRCJL=MA(VOL,P3);\n",
    "SSRCJE=MA(AMOUNT,P3);\n",
    "SSRCBJX=((SSRCJE / SSRCJL) / 100);\n",
    "SSRGL=(((A - SSRCBJX) / SSRCBJX) * 100);\n"
   ]
  },
  {
   "cell_type": "code",
   "execution_count": null,
   "metadata": {},
   "outputs": [],
   "source": [
    "datam.iloc[-1].name[1]"
   ]
  },
  {
   "cell_type": "code",
   "execution_count": null,
   "metadata": {},
   "outputs": [],
   "source": [
    "datam.query('code==\"600718\"')"
   ]
  },
  {
   "cell_type": "code",
   "execution_count": null,
   "metadata": {},
   "outputs": [],
   "source": [
    "datam.index.names"
   ]
  },
  {
   "cell_type": "code",
   "execution_count": null,
   "metadata": {},
   "outputs": [],
   "source": [
    "datam.groupby(level=['date']).sum()"
   ]
  },
  {
   "cell_type": "code",
   "execution_count": null,
   "metadata": {},
   "outputs": [],
   "source": [
    "data.index.names"
   ]
  },
  {
   "cell_type": "code",
   "execution_count": null,
   "metadata": {},
   "outputs": [],
   "source": [
    "result=pd.DataFrame()\n",
    "for x in datam.index.levels[1]:\n",
    "    qs=\"code=='%s'\" % x\n",
    "    data=datam.query(qs)\n",
    "    CLOSE=data.close\n",
    "    C=data.close\n",
    "    前炮 = CLOSE > REF(CLOSE, 1) * 1.099\n",
    "    小阴小阳 = HHV(ABS(C - REF(C, 1)) / REF(C, 1) * 100, 0) < 9\n",
    "    时间限制 = IFAND(COUNT(前炮, 30) == 1, BARSLAST(前炮) > 5, True, False)\n",
    "    后炮 = IFAND(REF(IFAND(小阴小阳, 时间限制, 1, 0), 1) , 前炮, 1, 0)\n",
    "#     x.loc[:,'start_time'] = pd.to_datetime(x.loc[:,'start_time'])\n",
    "    data['bflg'] = 后炮\n",
    "#     nhp=pd.DataFrame(后炮)\n",
    "#     data[:,'bflg'] = pd.Dataframe({'ss':后炮}\n",
    "#     data['add_column']  = 1 \n",
    "    if len(result) == 0:\n",
    "        result=data\n",
    "#         pass\n",
    "    else:\n",
    "        result=result.append(data)\n",
    "#         pass\n",
    "    \n",
    "    "
   ]
  },
  {
   "cell_type": "code",
   "execution_count": null,
   "metadata": {},
   "outputs": [],
   "source": [
    "len(result)"
   ]
  },
  {
   "cell_type": "code",
   "execution_count": null,
   "metadata": {},
   "outputs": [],
   "source": [
    "result.query('code==\"600756\"')"
   ]
  },
  {
   "cell_type": "code",
   "execution_count": 4,
   "metadata": {},
   "outputs": [],
   "source": [
    "data=m.get_stock_day('300620',st_start='2020-02-01', st_end='2020-12-02')\n"
   ]
  },
  {
   "cell_type": "code",
   "execution_count": 5,
   "metadata": {},
   "outputs": [],
   "source": [
    "CLOSE=data.close\n",
    "HIGH=data.high\n",
    "LOW=data.low\n",
    "\n",
    "VAR1G=(((CLOSE / MA(CLOSE,40)) * 100) < 78)\n",
    "VAR2G=(((CLOSE / MA(CLOSE,60)) * 100) < 74)\n",
    "VAR3G=(HIGH > (LOW * 1.051))\n",
    "VAR4G=IFAND(VAR3G , (COUNT(VAR3G,5) > 1), 1, 0)\n",
    "V3=(CLOSE-LLV(LOW,8))/(HHV(HIGH,8)-LLV(LOW,8))*100\n",
    "\n",
    "买入信号=SMA(V3,2,1)\n",
    "XH10=IFAND(买入信号>REF(买入信号,1) , REF(买入信号,1)<REF(买入信号,2) ,1,0)\n",
    "\n",
    "XH1=IFAND(XH10, 买入信号<23 ,1.5,0)\n"
   ]
  },
  {
   "cell_type": "code",
   "execution_count": 6,
   "metadata": {},
   "outputs": [
    {
     "ename": "SyntaxError",
     "evalue": "invalid syntax (<ipython-input-6-ea591a725491>, line 7)",
     "output_type": "error",
     "traceback": [
      "\u001b[0;36m  File \u001b[0;32m\"<ipython-input-6-ea591a725491>\"\u001b[0;36m, line \u001b[0;32m7\u001b[0m\n\u001b[0;31m    DMP=SUM(IF(((HD > 0) AND (HD > LD)),HD,0),10)\u001b[0m\n\u001b[0m                           ^\u001b[0m\n\u001b[0;31mSyntaxError\u001b[0m\u001b[0;31m:\u001b[0m invalid syntax\n"
     ]
    }
   ],
   "source": [
    "LC=REF(CLOSE,1)\n",
    "RSI5=((SMA(MAX((CLOSE - LC),0),5,1) / SMA(ABS((CLOSE - LC)),5,1)) * 100)\n",
    "TR1=SUM(MAX(MAX((HIGH - LOW),ABS((HIGH - REF(CLOSE,1)))),ABS((LOW - REF(CLOSE,1)))),10)\n",
    "HD=(HIGH - REF(HIGH,1))\n",
    "LD=(REF(LOW,1) - LOW)\n",
    "\n",
    "DMP=SUM(IF(((HD > 0) AND (HD > LD)),HD,0),10)\n",
    "DMM=SUM(IF(((LD > 0) AND (LD > HD)),LD,0),10)\n",
    "PDI=((DMP * 100) / TR1)\n",
    "MDI=((DMM * 100) / TR1)\n",
    "ADX=MA(((ABS((MDI - PDI)) / (MDI + PDI)) * 100),5)\n",
    "AV=(RSI5 + ADX)\n",
    "WR10=((100 * (HHV(HIGH,10) - CLOSE)) / (HHV(HIGH,10) - LLV(LOW,10)))\n",
    "NEWVOL=(RSI5 - WR10)\n",
    "回家种田=(AV + NEWVOL)\n",
    "XH2=IF(CROSS(回家种田,0),1,0),STICK,COLORRED;\n",
    "A=COUNT(CROSS(MA(C,60),MA(C,5)),7)=1;{7日内5日线跌破60日均线}\n",
    "B=MA(C,5)<REF(MA(C,5),3) AND MA(C,5)>REF(MA(C,5),1){5日均线拐头}\n",
    "XH21=A AND B AND V>REF(V,1)*1.3\n"
   ]
  },
  {
   "cell_type": "code",
   "execution_count": null,
   "metadata": {},
   "outputs": [],
   "source": [
    "\n",
    "DMP=SUM(IF(((HD > 0) AND (HD > LD)),HD,0),10)\n",
    "DMM=SUM(IF(((LD > 0) AND (LD > HD)),LD,0),10)\n",
    "PDI=((DMP * 100) / TR1)\n",
    "MDI=((DMM * 100) / TR1)\n",
    "ADX=MA(((ABS((MDI - PDI)) / (MDI + PDI)) * 100),5)\n",
    "AV=(RSI5 + ADX)\n",
    "WR10=((100 * (HHV(HIGH,10) - CLOSE)) / (HHV(HIGH,10) - LLV(LOW,10)))\n",
    "NEWVOL=(RSI5 - WR10)\n",
    "回家种田=(AV + NEWVOL)\n",
    "XH2=IF(CROSS(回家种田,0),1,0),STICK,COLORRED;\n",
    "A=COUNT(CROSS(MA(C,60),MA(C,5)),7)=1;{7日内5日线跌破60日均线}\n",
    "B=MA(C,5)<REF(MA(C,5),3) AND MA(C,5)>REF(MA(C,5),1){5日均线拐头}\n",
    "XH21=A AND B AND V>REF(V,1)*1.3\n",
    "\n",
    "\n",
    "P1=6\n",
    "P2=4\n",
    "P3=13\n",
    "AD=(3*C+L+O+H)/6\n",
    "\n",
    "VAR1=LLV(LOW,P1)\n",
    "VAR2=HHV(HIGH,P1)\n",
    "QS=WMA((AD-VAR1)/(VAR2-VAR1)*100,P2)\n",
    "慢线=WMA(0.667*REF(QS,1)+0.333*QS,2)\n",
    "\n",
    "GW=REF(QS,1)>80 OR QS>80\n",
    "DW=REF(QS,1)<30 OR QS<30\n",
    "XH3=CROSS(QS,慢线) AND DW\n",
    "\n",
    "ZXH:(XH1 AND XH2) OR (XH1 AND XH3) OR (XH2 AND XH3)\n",
    "ZXH2:XH3 AND XH21\n",
    "\n"
   ]
  },
  {
   "cell_type": "code",
   "execution_count": null,
   "metadata": {},
   "outputs": [],
   "source": []
  },
  {
   "cell_type": "code",
   "execution_count": 28,
   "metadata": {},
   "outputs": [
    {
     "data": {
      "text/plain": [
       "105"
      ]
     },
     "execution_count": 28,
     "metadata": {},
     "output_type": "execute_result"
    }
   ],
   "source": [
    "len(TJ1)"
   ]
  },
  {
   "cell_type": "code",
   "execution_count": null,
   "metadata": {},
   "outputs": [],
   "source": []
  },
  {
   "cell_type": "code",
   "execution_count": 8,
   "metadata": {},
   "outputs": [
    {
     "data": {
      "text/plain": [
       "False"
      ]
     },
     "execution_count": 8,
     "metadata": {},
     "output_type": "execute_result"
    }
   ],
   "source": [
    "data=m.get_stock_day('000758',st_start='2020-02-01', st_end='2020-12-02')\n",
    "CLOSE=data.close\n",
    "C=data.close\n",
    "前炮 = CLOSE > REF(CLOSE, 1) * 1.099\n",
    "小阴小阳 = HHV(ABS(C - REF(C, 1)) / REF(C, 1) * 100, BARSLAST(前炮)) < 9\n",
    "# 小阴小阳 = HHV(ABS(C - REF(C, 1)) / REF(C, 1) * 100, 0) < 9\n",
    "TJ1=ABS(C-REF(C,1))/REF(C,1)*100\n",
    "TJ2=BARSLAST(前炮)\n",
    "XYXY=HHV(TJ1,TJ2);\n",
    "# 小阴小阳:HHV(ABS(C-REF(C,1))/REF(C,1)*100,BARSLAST(前炮))<9;\n",
    "\n",
    "时间限制 = IFAND(COUNT(前炮, 30) == 1, BARSLAST(前炮) > 5, True, False)\n",
    "后炮 = IFAND(REF(IFAND(小阴小阳, 时间限制, 1, 0), 1) , 前炮, True, False)\n",
    "后炮[-1]"
   ]
  },
  {
   "cell_type": "code",
   "execution_count": 9,
   "metadata": {},
   "outputs": [
    {
     "data": {
      "text/plain": [
       "date        code  \n",
       "2020-05-21  000758    1.960784\n",
       "2020-05-22  000758    0.480769\n",
       "2020-05-25  000758    5.502392\n",
       "2020-05-26  000758    0.253165\n",
       "2020-05-27  000758    1.767677\n",
       "2020-05-28  000758    9.925558\n",
       "2020-05-29  000758    6.320542\n",
       "2020-06-01  000758    0.849257\n",
       "2020-06-02  000758    2.355460\n",
       "2020-06-03  000758    1.315789\n",
       "2020-06-04  000758    0.888889\n",
       "2020-06-05  000758    1.345291\n",
       "2020-06-08  000758    2.045455\n",
       "2020-06-09  000758    1.559020\n",
       "2020-06-10  000758    2.036199\n",
       "2020-06-11  000758    2.309469\n",
       "2020-06-12  000758    2.483070\n",
       "2020-06-15  000758    3.935185\n",
       "2020-06-16  000758    3.614458\n",
       "2020-06-17  000758    0.930233\n",
       "2020-06-18  000758    1.643192\n",
       "2020-06-19  000758    0.923788\n",
       "2020-06-22  000758    0.457666\n",
       "2020-06-23  000758    0.229885\n",
       "2020-06-24  000758    3.225806\n",
       "2020-06-29  000758    1.666667\n",
       "2020-06-30  000758    1.210654\n",
       "2020-07-01  000758    3.349282\n",
       "2020-07-02  000758    3.935185\n",
       "2020-07-03  000758    3.118040\n",
       "Name: close, dtype: float64"
      ]
     },
     "execution_count": 9,
     "metadata": {},
     "output_type": "execute_result"
    }
   ],
   "source": [
    "TJ1.tail(30)"
   ]
  },
  {
   "cell_type": "code",
   "execution_count": 1,
   "metadata": {
    "scrolled": true
   },
   "outputs": [
    {
     "ename": "NameError",
     "evalue": "name 'TJ2' is not defined",
     "output_type": "error",
     "traceback": [
      "\u001b[0;31m---------------------------------------------------------------------------\u001b[0m",
      "\u001b[0;31mNameError\u001b[0m                                 Traceback (most recent call last)",
      "\u001b[0;32m<ipython-input-1-ace98ba309e5>\u001b[0m in \u001b[0;36m<module>\u001b[0;34m\u001b[0m\n\u001b[0;32m----> 1\u001b[0;31m \u001b[0mTJ2\u001b[0m\u001b[0;34m.\u001b[0m\u001b[0mtail\u001b[0m\u001b[0;34m(\u001b[0m\u001b[0;36m30\u001b[0m\u001b[0;34m)\u001b[0m\u001b[0;34m\u001b[0m\u001b[0;34m\u001b[0m\u001b[0m\n\u001b[0m",
      "\u001b[0;31mNameError\u001b[0m: name 'TJ2' is not defined"
     ]
    }
   ],
   "source": [
    "TJ2.tail(30)"
   ]
  },
  {
   "cell_type": "code",
   "execution_count": null,
   "metadata": {},
   "outputs": [],
   "source": [
    "前炮 = CLOSE > REF(CLOSE, 1) * 1.099\n",
    "BARSLAST(前炮).tail()"
   ]
  },
  {
   "cell_type": "code",
   "execution_count": null,
   "metadata": {},
   "outputs": [],
   "source": [
    "前炮:=CLOSE>REF(CLOSE,1)*1.099;\n",
    "小阴小阳:=HHV(ABS(C-REF(C,1))/REF(C,1)*100,20)<9;\n",
    "时间限制:=COUNT(前炮,30)=1 AND BARSLAST(前炮)>5;\n",
    "后炮:REF(小阴小阳 AND 时间限制,1) AND 前炮;\n"
   ]
  },
  {
   "cell_type": "code",
   "execution_count": null,
   "metadata": {},
   "outputs": [],
   "source": [
    "data=m.get_stock_day('300620',st_start='2020-02-01', st_end='2020-12-02')\n",
    "CLOSE = data.close\n",
    "C = data.close\n",
    "前炮 = CLOSE > REF(CLOSE, 1) * 1.099\n",
    "c1=ABS(C-REF(C,1))/REF(C,1)*100\n",
    "c2=BARSLAST(前炮)\n",
    "小阴小阳 = HHV(c1,c2)<9\n",
    "# HHV(ABS(C - REF(C, 1)) / REF(C, 1) * 100, BARSLAST(前炮)) < 9\n",
    "时间限制 = IFAND(COUNT(前炮, 30) == 1, BARSLAST(前炮) > 5, True, False)\n",
    "后炮 = IFAND(REF(IFAND(小阴小阳, 时间限制, 1, 0), 1) , 前炮, True, False)\n",
    "后炮.tail()"
   ]
  },
  {
   "cell_type": "code",
   "execution_count": null,
   "metadata": {},
   "outputs": [],
   "source": [
    "c2.tail(25)"
   ]
  },
  {
   "cell_type": "code",
   "execution_count": null,
   "metadata": {},
   "outputs": [],
   "source": []
  },
  {
   "cell_type": "code",
   "execution_count": null,
   "metadata": {},
   "outputs": [],
   "source": [
    "小阴小阳.tail(25)"
   ]
  },
  {
   "cell_type": "code",
   "execution_count": null,
   "metadata": {},
   "outputs": [],
   "source": [
    "c1.tail(22)"
   ]
  },
  {
   "cell_type": "code",
   "execution_count": null,
   "metadata": {},
   "outputs": [],
   "source": []
  },
  {
   "cell_type": "code",
   "execution_count": null,
   "metadata": {},
   "outputs": [],
   "source": [
    "c2.tail()"
   ]
  },
  {
   "cell_type": "code",
   "execution_count": null,
   "metadata": {},
   "outputs": [],
   "source": [
    "HHV(ABS(C - REF(C, 1)) / REF(C, 1) * 100, 0).tail()"
   ]
  },
  {
   "cell_type": "code",
   "execution_count": null,
   "metadata": {},
   "outputs": [],
   "source": [
    "后炮[-1]"
   ]
  },
  {
   "cell_type": "code",
   "execution_count": null,
   "metadata": {},
   "outputs": [],
   "source": [
    "lib  = cdll.LoadLibrary(\"/usr/share/talib/%s\" % (\"talib_ext.so\"))\n",
    "\n",
    "def HHV2(Series, NS):\n",
    "    ncount = len(NS)\n",
    "    tf_p=c_float * ncount\n",
    "    np_OUT =tf_p(0)\n",
    "    na_Series=np.asarray(Series).astype(np.float32)\n",
    "    na_NS=np.asarray(NS).astype(np.int32)\n",
    "    \n",
    "    np_S=cast(na_Series.ctypes.data, POINTER(c_float))\n",
    "    np_N=cast(na_NS.ctypes.data, POINTER(c_int))\n",
    "    \n",
    "    lib.llv(ncount, np_OUT, np_S, np_N)\n",
    "    \n",
    "    return pd.Series(np.asarray(np_OUT), index=Series.index)\n",
    "\n",
    "TJ1 = ABS(C - REF(C, 1)) / REF(C, 1) * 100\n",
    "TJ2 = BARSLAST(前炮)\n",
    "小阴小阳 = HHV2(TJ1, TJ2)\n",
    "小阴小阳.tail(30)"
   ]
  },
  {
   "cell_type": "code",
   "execution_count": null,
   "metadata": {},
   "outputs": [],
   "source": [
    "TJ1.tail(30)"
   ]
  },
  {
   "cell_type": "code",
   "execution_count": null,
   "metadata": {},
   "outputs": [],
   "source": [
    "data[:,'flg']='a'"
   ]
  },
  {
   "cell_type": "code",
   "execution_count": null,
   "metadata": {},
   "outputs": [],
   "source": [
    "TJ2.tail(30)"
   ]
  },
  {
   "cell_type": "code",
   "execution_count": null,
   "metadata": {},
   "outputs": [],
   "source": []
  },
  {
   "cell_type": "code",
   "execution_count": null,
   "metadata": {},
   "outputs": [],
   "source": [
    "result=pd.DataFrame()\n",
    "result=后炮"
   ]
  },
  {
   "cell_type": "code",
   "execution_count": null,
   "metadata": {},
   "outputs": [],
   "source": [
    "result.append(后炮)"
   ]
  },
  {
   "cell_type": "code",
   "execution_count": null,
   "metadata": {},
   "outputs": [],
   "source": [
    "result.index.levels[0]"
   ]
  },
  {
   "cell_type": "code",
   "execution_count": null,
   "metadata": {},
   "outputs": [],
   "source": [
    "position_col = data.columns.get_loc('low')"
   ]
  },
  {
   "cell_type": "code",
   "execution_count": null,
   "metadata": {},
   "outputs": [],
   "source": [
    "position_col"
   ]
  },
  {
   "cell_type": "code",
   "execution_count": null,
   "metadata": {},
   "outputs": [],
   "source": [
    "data.columns.data.columns"
   ]
  },
  {
   "cell_type": "code",
   "execution_count": null,
   "metadata": {},
   "outputs": [],
   "source": [
    "N = pd.Series(np.full(len(Series),1), index=Series.index)"
   ]
  },
  {
   "cell_type": "code",
   "execution_count": null,
   "metadata": {},
   "outputs": [],
   "source": [
    "b=Series.reset_index()"
   ]
  },
  {
   "cell_type": "code",
   "execution_count": null,
   "metadata": {},
   "outputs": [],
   "source": [
    "b.diff(1, axis=1)"
   ]
  },
  {
   "cell_type": "code",
   "execution_count": null,
   "metadata": {},
   "outputs": [],
   "source": [
    "REF(IFAND(小阴小阳, 时间限制, 1, 0), 1)"
   ]
  },
  {
   "cell_type": "code",
   "execution_count": null,
   "metadata": {},
   "outputs": [],
   "source": [
    "B.tail()"
   ]
  },
  {
   "cell_type": "code",
   "execution_count": null,
   "metadata": {},
   "outputs": [],
   "source": [
    "小阴小阳.tail()"
   ]
  },
  {
   "cell_type": "code",
   "execution_count": null,
   "metadata": {},
   "outputs": [],
   "source": [
    "REF(小阴小阳, 1)"
   ]
  },
  {
   "cell_type": "code",
   "execution_count": null,
   "metadata": {},
   "outputs": [],
   "source": [
    "N = pd.Series(np.full(len(Series),1))"
   ]
  },
  {
   "cell_type": "code",
   "execution_count": null,
   "metadata": {},
   "outputs": [],
   "source": [
    "N"
   ]
  },
  {
   "cell_type": "code",
   "execution_count": null,
   "metadata": {},
   "outputs": [],
   "source": [
    "Series=小阴小阳"
   ]
  },
  {
   "cell_type": "code",
   "execution_count": null,
   "metadata": {},
   "outputs": [],
   "source": [
    "Series.reset_index().diff(N)"
   ]
  },
  {
   "cell_type": "code",
   "execution_count": null,
   "metadata": {},
   "outputs": [],
   "source": [
    "b"
   ]
  },
  {
   "cell_type": "code",
   "execution_count": null,
   "metadata": {},
   "outputs": [],
   "source": [
    "FLG=IFAND(REF(IFAND(小阴小阳, 时间限制, 1, 0), 1) , 前炮, True, False)"
   ]
  },
  {
   "cell_type": "code",
   "execution_count": null,
   "metadata": {},
   "outputs": [],
   "source": [
    "pd.DataFrame({'FLG':FLG}).iloc[-1]['FLG']"
   ]
  },
  {
   "cell_type": "code",
   "execution_count": null,
   "metadata": {},
   "outputs": [],
   "source": [
    "s = pd.Series(np.random.randint(-10,10,7), \n",
    "              index=[['a','a','b','b','c','c','c'],[0,1,0,1,0,1,2]])\n"
   ]
  },
  {
   "cell_type": "code",
   "execution_count": null,
   "metadata": {},
   "outputs": [],
   "source": [
    "s.index"
   ]
  },
  {
   "cell_type": "code",
   "execution_count": null,
   "metadata": {},
   "outputs": [],
   "source": [
    "type(df.A)"
   ]
  },
  {
   "cell_type": "code",
   "execution_count": null,
   "metadata": {},
   "outputs": [],
   "source": [
    "s.index[:0]"
   ]
  },
  {
   "cell_type": "code",
   "execution_count": null,
   "metadata": {},
   "outputs": [],
   "source": [
    "for _, c in s.index:\n",
    "    print(c)"
   ]
  },
  {
   "cell_type": "code",
   "execution_count": null,
   "metadata": {},
   "outputs": [],
   "source": [
    "codelist = [\"600109\", \"600551\", \"600697\", \"601066\", \"000732\", \"000905\", \"002827\",\"600338\",\"002049\",\"300620\"]\n",
    "st_start=\"2020-03-01\"\n",
    "data_day = m.get_stock_day(codelist, st_start=st_start)"
   ]
  },
  {
   "cell_type": "code",
   "execution_count": null,
   "metadata": {},
   "outputs": [],
   "source": [
    "dataR = pd.DataFrame()\n",
    "for code in datam.index.levels[1]:\n",
    "    data1=datam.query(\"code=='%s'\" % code)\n",
    "    data=data1.copy()\n",
    "    data['ret'] = data.close.pct_change(1)\n",
    "    data['nav'] = (1+data.close.pct_change(1).fillna(0)).cumprod()\n",
    "    if len(dataR) == 0:\n",
    "        dataR = data\n",
    "    else:\n",
    "        dataR = dataR.append(data)"
   ]
  },
  {
   "cell_type": "code",
   "execution_count": null,
   "metadata": {},
   "outputs": [],
   "source": [
    "dataR.sort_index().tail()"
   ]
  },
  {
   "cell_type": "code",
   "execution_count": null,
   "metadata": {},
   "outputs": [],
   "source": []
  },
  {
   "cell_type": "code",
   "execution_count": null,
   "metadata": {},
   "outputs": [],
   "source": [
    "len(datam.index.levels[1])"
   ]
  },
  {
   "cell_type": "code",
   "execution_count": null,
   "metadata": {},
   "outputs": [],
   "source": [
    "dataR.groupby(level=['date']).sum().tail() - 1"
   ]
  },
  {
   "cell_type": "code",
   "execution_count": null,
   "metadata": {},
   "outputs": [],
   "source": [
    "def pre_rsrs_data_v1_func(datam, N=18, M=252):\n",
    "    start_t = datetime.datetime.now()\n",
    "    print(start_t)\n",
    "    dataR = pd.DataFrame()\n",
    "    for code in datam.index.levels[1]:\n",
    "        data=datam.query(\"code=='%s'\" % code)\n",
    "        CLOSE=data.close\n",
    "        C=data.close\n",
    "        前炮 = CLOSE > REF(CLOSE, 1) * 1.099\n",
    "        小阴小阳 = HHV(ABS(C - REF(C, 1)) / REF(C, 1) * 100, BARSLAST(前炮)) < 9\n",
    "        时间限制 = IFAND(COUNT(前炮, 30) == 1, BARSLAST(前炮) > 5, True, False)\n",
    "        后炮 = IFAND(REF(IFAND(小阴小阳, 时间限制, 1, 0), 1) , 前炮, 1, 0)\n",
    "        # 斜率\n",
    "        data = data.copy()\n",
    "        data['bflg'] = 后炮\n",
    "        data['ret'] = data.close.pct_change(1)\n",
    "\n",
    "        if len(dataR) == 0:\n",
    "            dataR = data\n",
    "        else:\n",
    "            dataR = dataR.append(data)\n",
    "    end_t = datetime.datetime.now()\n",
    "    print(end_t, 'spent:{}'.format((end_t - start_t)))\n",
    "    return dataR.sort_index()\n"
   ]
  },
  {
   "cell_type": "code",
   "execution_count": null,
   "metadata": {},
   "outputs": [],
   "source": [
    "indices_rsrsT = pre_rsrs_data_v1_func(data_day)"
   ]
  },
  {
   "cell_type": "code",
   "execution_count": null,
   "metadata": {},
   "outputs": [],
   "source": [
    "datam=indices_rsrsT"
   ]
  },
  {
   "cell_type": "code",
   "execution_count": null,
   "metadata": {},
   "outputs": [],
   "source": [
    "dataR = pd.DataFrame()\n",
    "for code in datam.index.levels[1]:\n",
    "    # data = price.copy()\n",
    "    price = datam.query(\"code=='%s'\" % code)\n",
    "    data = price.copy()\n",
    "    data['flag'] = 0 # 买卖标记\n",
    "    data['position'] = 0 # 持仓标记\n",
    "    data['hprice'] = 0  # 持仓价格\n",
    "    bflag = data.columns.get_loc('bflg')\n",
    "    # beta = data.columns.get_loc('beta')\n",
    "    flag = data.columns.get_loc('flag')\n",
    "    position_col = data.columns.get_loc('position')\n",
    "    close_col = data.columns.get_loc('close')\n",
    "    open_col = data.columns.get_loc('open')\n",
    "    hprice_col = data.columns.get_loc('hprice')\n",
    "    position = 0 # 是否持仓，持仓：1，不持仓：0\n",
    "    for i in range(1,data.shape[0] - 1):\n",
    "        # 开仓\n",
    "        if data.iat[i, bflag] > 0 and position == 0:\n",
    "            data.iat[i + 1, flag] = 1\n",
    "            data.iat[i + 1, position_col] = 1\n",
    "            data.iat[i + 1, hprice_col] = data.iat[i+1, open_col]\n",
    "            position = 1\n",
    "#             print(\"buy  : date=%s code=%s price=%.2f\" % (data.iloc[i+1].name[0], data.iloc[i+1].name[1], data.iloc[i+1].close))\n",
    "        # 平仓\n",
    "        # elif data.iat[i, bflag] == S2 and position == 1:\n",
    "        elif data.iat[i, position_col] > 0 and position == 1:\n",
    "            cprice = data.iat[i, close_col]\n",
    "            # oprice = data.iat[i, open_col]\n",
    "            hprice = data.iat[i, hprice_col]\n",
    "            if cprice < hprice * 0.95 or cprice > hprice * 1.2:\n",
    "                data.iat[i, flag] = -1\n",
    "                data.iat[i + 1, position_col] = 0\n",
    "                data.iat[i + 1, hprice_col] = 0\n",
    "                position = 0\n",
    "#                 print(\"sell : code=%s date=%s  price=%.2f\" % (data.iloc[i].name[0], data.iloc[i].name[1], data.iloc[i].close))\n",
    "            else:\n",
    "                data.iat[i + 1, position_col] = data.iat[i, position_col]\n",
    "                data.iat[i + 1, hprice_col] = data.iat[i, hprice_col]\n",
    "        # 保持\n",
    "        else:\n",
    "            data.iat[i + 1, position_col] = data.iat[i, position_col]\n",
    "            data.iat[i + 1, hprice_col] = data.iat[i, hprice_col]\n",
    "\n",
    "    data['nav'] = (1+data.close.pct_change(1).fillna(0) * data.position).cumprod()\n",
    "    # if code == '000732':\n",
    "    #     print(data.tail(22))\n",
    "    if len(dataR) == 0:\n",
    "        dataR = data\n",
    "    else:\n",
    "        dataR = dataR.append(data)\n"
   ]
  },
  {
   "cell_type": "code",
   "execution_count": null,
   "metadata": {},
   "outputs": [],
   "source": [
    "a=dataR.sort_index()"
   ]
  },
  {
   "cell_type": "code",
   "execution_count": null,
   "metadata": {},
   "outputs": [],
   "source": [
    "type(a.index.levels[0])"
   ]
  },
  {
   "cell_type": "code",
   "execution_count": null,
   "metadata": {},
   "outputs": [],
   "source": [
    "pd.to_datetime('2020-12-12')"
   ]
  },
  {
   "cell_type": "code",
   "execution_count": null,
   "metadata": {},
   "outputs": [],
   "source": [
    "a.loc[pd.to_datetime('2020-04-27'):]"
   ]
  },
  {
   "cell_type": "code",
   "execution_count": null,
   "metadata": {},
   "outputs": [],
   "source": [
    "result = dataR['nav'].groupby(level=['date']).sum()\n",
    "result3 = dataR['nav'].groupby(level=['date']).count()\n",
    "result2 = dataR.groupby(level=['date'])"
   ]
  },
  {
   "cell_type": "code",
   "execution_count": null,
   "metadata": {},
   "outputs": [],
   "source": [
    "min(result)"
   ]
  },
  {
   "cell_type": "code",
   "execution_count": null,
   "metadata": {},
   "outputs": [],
   "source": [
    "r1=result - result3 + 1"
   ]
  },
  {
   "cell_type": "code",
   "execution_count": null,
   "metadata": {},
   "outputs": [],
   "source": [
    "min(r1)"
   ]
  },
  {
   "cell_type": "code",
   "execution_count": null,
   "metadata": {},
   "outputs": [],
   "source": [
    "num = dataR.flag.abs().sum()"
   ]
  },
  {
   "cell_type": "code",
   "execution_count": null,
   "metadata": {},
   "outputs": [],
   "source": [
    "num"
   ]
  },
  {
   "cell_type": "code",
   "execution_count": null,
   "metadata": {},
   "outputs": [],
   "source": [
    "dataR2 = pd.DataFrame({'nav':r1,'flg':0})"
   ]
  },
  {
   "cell_type": "code",
   "execution_count": null,
   "metadata": {},
   "outputs": [],
   "source": [
    "dataR2 = pd.DataFrame(r1)"
   ]
  },
  {
   "cell_type": "code",
   "execution_count": null,
   "metadata": {},
   "outputs": [],
   "source": [
    "# dataR2['num'] = 0\n",
    "dataR2['flg'].iloc[-1] = num"
   ]
  },
  {
   "cell_type": "code",
   "execution_count": null,
   "metadata": {},
   "outputs": [],
   "source": [
    "dataR2.nav[39:51]"
   ]
  },
  {
   "cell_type": "code",
   "execution_count": null,
   "metadata": {},
   "outputs": [],
   "source": [
    "\n"
   ]
  },
  {
   "cell_type": "code",
   "execution_count": 68,
   "metadata": {},
   "outputs": [],
   "source": [
    "datam=m.get_index_day('512880',st_start='2020-02-01', st_end='2020-12-02')"
   ]
  },
  {
   "cell_type": "code",
   "execution_count": null,
   "metadata": {},
   "outputs": [],
   "source": []
  },
  {
   "cell_type": "code",
   "execution_count": 23,
   "metadata": {},
   "outputs": [],
   "source": [
    "df=pd.concat([MA(datam.close, x) for x in (5,10,20,30,60,90,120,250,13, 34, 55,) ], axis = 1)\n",
    "df.columns = [u'm5',u'm10',u'm20',u'm30',u'm60',u'm90',u'm120', u'm250', u'm13', u'm34', u'm55']"
   ]
  },
  {
   "cell_type": "code",
   "execution_count": 12,
   "metadata": {},
   "outputs": [
    {
     "data": {
      "text/plain": [
       "1.2800000000000002"
      ]
     },
     "execution_count": 12,
     "metadata": {},
     "output_type": "execute_result"
    }
   ],
   "source": [
    "MA(datam.close, 5)[-1]"
   ]
  },
  {
   "cell_type": "code",
   "execution_count": 13,
   "metadata": {},
   "outputs": [
    {
     "data": {
      "text/plain": [
       "1.3075000000000006"
      ]
     },
     "execution_count": 13,
     "metadata": {},
     "output_type": "execute_result"
    }
   ],
   "source": [
    "MA(datam.close, 10)[-1]"
   ]
  },
  {
   "cell_type": "code",
   "execution_count": 14,
   "metadata": {},
   "outputs": [
    {
     "data": {
      "text/plain": [
       "1.1894999999999996"
      ]
     },
     "execution_count": 14,
     "metadata": {},
     "output_type": "execute_result"
    }
   ],
   "source": [
    "MA(datam.close, 20)[-1]"
   ]
  },
  {
   "cell_type": "code",
   "execution_count": 25,
   "metadata": {},
   "outputs": [
    {
     "data": {
      "text/plain": [
       "1.2800000000000002"
      ]
     },
     "execution_count": 25,
     "metadata": {},
     "output_type": "execute_result"
    }
   ],
   "source": [
    "df.m5.iloc[-1]"
   ]
  },
  {
   "cell_type": "code",
   "execution_count": 28,
   "metadata": {},
   "outputs": [],
   "source": [
    "eq=easyquotation.use('sina')"
   ]
  },
  {
   "cell_type": "code",
   "execution_count": 31,
   "metadata": {},
   "outputs": [],
   "source": [
    "datajs=eq.stocks('512880')"
   ]
  },
  {
   "cell_type": "code",
   "execution_count": 34,
   "metadata": {},
   "outputs": [],
   "source": [
    "data=datajs['512880']"
   ]
  },
  {
   "cell_type": "code",
   "execution_count": 40,
   "metadata": {},
   "outputs": [],
   "source": [
    "last_time = pd.to_datetime(data['datetime'][0:10])"
   ]
  },
  {
   "cell_type": "code",
   "execution_count": 36,
   "metadata": {},
   "outputs": [
    {
     "data": {
      "text/plain": [
       "Timestamp('2020-07-21 00:00:00')"
      ]
     },
     "execution_count": 36,
     "metadata": {},
     "output_type": "execute_result"
    }
   ],
   "source": [
    "last_time"
   ]
  },
  {
   "cell_type": "code",
   "execution_count": 37,
   "metadata": {},
   "outputs": [],
   "source": [
    "now_price = data['now']"
   ]
  },
  {
   "cell_type": "code",
   "execution_count": 38,
   "metadata": {},
   "outputs": [
    {
     "data": {
      "text/plain": [
       "1.256"
      ]
     },
     "execution_count": 38,
     "metadata": {},
     "output_type": "execute_result"
    }
   ],
   "source": [
    "now_price"
   ]
  },
  {
   "cell_type": "code",
   "execution_count": 70,
   "metadata": {},
   "outputs": [],
   "source": [
    "last_time = pd.to_datetime(data['datetime'][0:10])"
   ]
  },
  {
   "cell_type": "code",
   "execution_count": 69,
   "metadata": {},
   "outputs": [],
   "source": [
    "df_day=datam"
   ]
  },
  {
   "cell_type": "code",
   "execution_count": 72,
   "metadata": {},
   "outputs": [
    {
     "data": {
      "text/html": [
       "<div>\n",
       "<style scoped>\n",
       "    .dataframe tbody tr th:only-of-type {\n",
       "        vertical-align: middle;\n",
       "    }\n",
       "\n",
       "    .dataframe tbody tr th {\n",
       "        vertical-align: top;\n",
       "    }\n",
       "\n",
       "    .dataframe thead th {\n",
       "        text-align: right;\n",
       "    }\n",
       "</style>\n",
       "<table border=\"1\" class=\"dataframe\">\n",
       "  <thead>\n",
       "    <tr style=\"text-align: right;\">\n",
       "      <th></th>\n",
       "      <th></th>\n",
       "      <th>amount</th>\n",
       "      <th>close</th>\n",
       "      <th>high</th>\n",
       "      <th>low</th>\n",
       "      <th>open</th>\n",
       "      <th>vol</th>\n",
       "    </tr>\n",
       "    <tr>\n",
       "      <th>date</th>\n",
       "      <th>code</th>\n",
       "      <th></th>\n",
       "      <th></th>\n",
       "      <th></th>\n",
       "      <th></th>\n",
       "      <th></th>\n",
       "      <th></th>\n",
       "    </tr>\n",
       "  </thead>\n",
       "  <tbody>\n",
       "    <tr>\n",
       "      <th>2020-07-15</th>\n",
       "      <th>512880</th>\n",
       "      <td>3.565837e+09</td>\n",
       "      <td>1.315</td>\n",
       "      <td>1.384</td>\n",
       "      <td>1.310</td>\n",
       "      <td>1.371</td>\n",
       "      <td>26544904.0</td>\n",
       "    </tr>\n",
       "    <tr>\n",
       "      <th>2020-07-16</th>\n",
       "      <th>512880</th>\n",
       "      <td>3.858486e+09</td>\n",
       "      <td>1.246</td>\n",
       "      <td>1.346</td>\n",
       "      <td>1.241</td>\n",
       "      <td>1.313</td>\n",
       "      <td>29684070.0</td>\n",
       "    </tr>\n",
       "    <tr>\n",
       "      <th>2020-07-17</th>\n",
       "      <th>512880</th>\n",
       "      <td>4.037402e+09</td>\n",
       "      <td>1.207</td>\n",
       "      <td>1.268</td>\n",
       "      <td>1.188</td>\n",
       "      <td>1.258</td>\n",
       "      <td>33008468.0</td>\n",
       "    </tr>\n",
       "    <tr>\n",
       "      <th>2020-07-20</th>\n",
       "      <th>512880</th>\n",
       "      <td>3.357121e+09</td>\n",
       "      <td>1.276</td>\n",
       "      <td>1.293</td>\n",
       "      <td>1.224</td>\n",
       "      <td>1.231</td>\n",
       "      <td>26747316.0</td>\n",
       "    </tr>\n",
       "    <tr>\n",
       "      <th>2020-07-21</th>\n",
       "      <th>512880</th>\n",
       "      <td>NaN</td>\n",
       "      <td>NaN</td>\n",
       "      <td>NaN</td>\n",
       "      <td>NaN</td>\n",
       "      <td>1.275</td>\n",
       "      <td>NaN</td>\n",
       "    </tr>\n",
       "  </tbody>\n",
       "</table>\n",
       "</div>"
      ],
      "text/plain": [
       "                         amount  close   high    low   open         vol\n",
       "date       code                                                        \n",
       "2020-07-15 512880  3.565837e+09  1.315  1.384  1.310  1.371  26544904.0\n",
       "2020-07-16 512880  3.858486e+09  1.246  1.346  1.241  1.313  29684070.0\n",
       "2020-07-17 512880  4.037402e+09  1.207  1.268  1.188  1.258  33008468.0\n",
       "2020-07-20 512880  3.357121e+09  1.276  1.293  1.224  1.231  26747316.0\n",
       "2020-07-21 512880           NaN    NaN    NaN    NaN  1.275         NaN"
      ]
     },
     "execution_count": 72,
     "metadata": {},
     "output_type": "execute_result"
    }
   ],
   "source": [
    "df_day.tail()"
   ]
  },
  {
   "cell_type": "code",
   "execution_count": 44,
   "metadata": {},
   "outputs": [],
   "source": [
    "df_day.loc[last_time]=[0 for x in range(len(df_day.columns))]"
   ]
  },
  {
   "cell_type": "code",
   "execution_count": 71,
   "metadata": {},
   "outputs": [],
   "source": [
    "df_day.loc[(last_time,'512880'),'open'] = data['open']"
   ]
  },
  {
   "cell_type": "code",
   "execution_count": 61,
   "metadata": {},
   "outputs": [
    {
     "data": {
      "text/plain": [
       "amount    3.357121e+09\n",
       "close     1.276000e+00\n",
       "high      1.293000e+00\n",
       "low       1.224000e+00\n",
       "open      1.231000e+00\n",
       "vol       2.674732e+07\n",
       "Name: (2020-07-20 00:00:00, 512880), dtype: float64"
      ]
     },
     "execution_count": 61,
     "metadata": {},
     "output_type": "execute_result"
    }
   ],
   "source": [
    "df_day.loc[('2020-07-20','512880')]"
   ]
  },
  {
   "cell_type": "code",
   "execution_count": 63,
   "metadata": {},
   "outputs": [
    {
     "ename": "ValueError",
     "evalue": "cannot set using a multi-index selection indexer with a different length than the value",
     "output_type": "error",
     "traceback": [
      "\u001b[0;31m---------------------------------------------------------------------------\u001b[0m",
      "\u001b[0;31mValueError\u001b[0m                                Traceback (most recent call last)",
      "\u001b[0;32m<ipython-input-63-76e1bb94eeac>\u001b[0m in \u001b[0;36m<module>\u001b[0;34m\u001b[0m\n\u001b[0;32m----> 1\u001b[0;31m \u001b[0mdf_day\u001b[0m\u001b[0;34m.\u001b[0m\u001b[0mloc\u001b[0m\u001b[0;34m[\u001b[0m\u001b[0;34m(\u001b[0m\u001b[0mlast_time\u001b[0m\u001b[0;34m,\u001b[0m\u001b[0;34m'512880'\u001b[0m\u001b[0;34m)\u001b[0m\u001b[0;34m]\u001b[0m\u001b[0;34m=\u001b[0m\u001b[0;34m[\u001b[0m\u001b[0;36m0\u001b[0m \u001b[0;32mfor\u001b[0m \u001b[0mx\u001b[0m \u001b[0;32min\u001b[0m \u001b[0mrange\u001b[0m\u001b[0;34m(\u001b[0m\u001b[0mlen\u001b[0m\u001b[0;34m(\u001b[0m\u001b[0mdf_day\u001b[0m\u001b[0;34m.\u001b[0m\u001b[0mcolumns\u001b[0m\u001b[0;34m)\u001b[0m\u001b[0;34m)\u001b[0m\u001b[0;34m]\u001b[0m\u001b[0;34m\u001b[0m\u001b[0;34m\u001b[0m\u001b[0m\n\u001b[0m",
      "\u001b[0;32m~/anaconda3/envs/qawork/lib/python3.7/site-packages/pandas/core/indexing.py\u001b[0m in \u001b[0;36m__setitem__\u001b[0;34m(self, key, value)\u001b[0m\n\u001b[1;32m    188\u001b[0m             \u001b[0mkey\u001b[0m \u001b[0;34m=\u001b[0m \u001b[0mcom\u001b[0m\u001b[0;34m.\u001b[0m\u001b[0mapply_if_callable\u001b[0m\u001b[0;34m(\u001b[0m\u001b[0mkey\u001b[0m\u001b[0;34m,\u001b[0m \u001b[0mself\u001b[0m\u001b[0;34m.\u001b[0m\u001b[0mobj\u001b[0m\u001b[0;34m)\u001b[0m\u001b[0;34m\u001b[0m\u001b[0;34m\u001b[0m\u001b[0m\n\u001b[1;32m    189\u001b[0m         \u001b[0mindexer\u001b[0m \u001b[0;34m=\u001b[0m \u001b[0mself\u001b[0m\u001b[0;34m.\u001b[0m\u001b[0m_get_setitem_indexer\u001b[0m\u001b[0;34m(\u001b[0m\u001b[0mkey\u001b[0m\u001b[0;34m)\u001b[0m\u001b[0;34m\u001b[0m\u001b[0;34m\u001b[0m\u001b[0m\n\u001b[0;32m--> 190\u001b[0;31m         \u001b[0mself\u001b[0m\u001b[0;34m.\u001b[0m\u001b[0m_setitem_with_indexer\u001b[0m\u001b[0;34m(\u001b[0m\u001b[0mindexer\u001b[0m\u001b[0;34m,\u001b[0m \u001b[0mvalue\u001b[0m\u001b[0;34m)\u001b[0m\u001b[0;34m\u001b[0m\u001b[0;34m\u001b[0m\u001b[0m\n\u001b[0m\u001b[1;32m    191\u001b[0m \u001b[0;34m\u001b[0m\u001b[0m\n\u001b[1;32m    192\u001b[0m     \u001b[0;32mdef\u001b[0m \u001b[0m_validate_key\u001b[0m\u001b[0;34m(\u001b[0m\u001b[0mself\u001b[0m\u001b[0;34m,\u001b[0m \u001b[0mkey\u001b[0m\u001b[0;34m,\u001b[0m \u001b[0maxis\u001b[0m\u001b[0;34m)\u001b[0m\u001b[0;34m:\u001b[0m\u001b[0;34m\u001b[0m\u001b[0;34m\u001b[0m\u001b[0m\n",
      "\u001b[0;32m~/anaconda3/envs/qawork/lib/python3.7/site-packages/pandas/core/indexing.py\u001b[0m in \u001b[0;36m_setitem_with_indexer\u001b[0;34m(self, indexer, value)\u001b[0m\n\u001b[1;32m    364\u001b[0m                         new_indexer = convert_from_missing_indexer_tuple(\n\u001b[1;32m    365\u001b[0m                             indexer, self.obj.axes)\n\u001b[0;32m--> 366\u001b[0;31m                         \u001b[0mself\u001b[0m\u001b[0;34m.\u001b[0m\u001b[0m_setitem_with_indexer\u001b[0m\u001b[0;34m(\u001b[0m\u001b[0mnew_indexer\u001b[0m\u001b[0;34m,\u001b[0m \u001b[0mvalue\u001b[0m\u001b[0;34m)\u001b[0m\u001b[0;34m\u001b[0m\u001b[0;34m\u001b[0m\u001b[0m\n\u001b[0m\u001b[1;32m    367\u001b[0m \u001b[0;34m\u001b[0m\u001b[0m\n\u001b[1;32m    368\u001b[0m                         \u001b[0;32mreturn\u001b[0m \u001b[0mself\u001b[0m\u001b[0;34m.\u001b[0m\u001b[0mobj\u001b[0m\u001b[0;34m\u001b[0m\u001b[0;34m\u001b[0m\u001b[0m\n",
      "\u001b[0;32m~/anaconda3/envs/qawork/lib/python3.7/site-packages/pandas/core/indexing.py\u001b[0m in \u001b[0;36m_setitem_with_indexer\u001b[0;34m(self, indexer, value)\u001b[0m\n\u001b[1;32m    492\u001b[0m \u001b[0;34m\u001b[0m\u001b[0m\n\u001b[1;32m    493\u001b[0m                     \u001b[0;32mif\u001b[0m \u001b[0mlen\u001b[0m\u001b[0;34m(\u001b[0m\u001b[0mobj\u001b[0m\u001b[0;34m[\u001b[0m\u001b[0midx\u001b[0m\u001b[0;34m]\u001b[0m\u001b[0;34m)\u001b[0m \u001b[0;34m!=\u001b[0m \u001b[0mlen\u001b[0m\u001b[0;34m(\u001b[0m\u001b[0mvalue\u001b[0m\u001b[0;34m)\u001b[0m\u001b[0;34m:\u001b[0m\u001b[0;34m\u001b[0m\u001b[0;34m\u001b[0m\u001b[0m\n\u001b[0;32m--> 494\u001b[0;31m                         raise ValueError(\"cannot set using a multi-index \"\n\u001b[0m\u001b[1;32m    495\u001b[0m                                          \u001b[0;34m\"selection indexer with a different \"\u001b[0m\u001b[0;34m\u001b[0m\u001b[0;34m\u001b[0m\u001b[0m\n\u001b[1;32m    496\u001b[0m                                          \"length than the value\")\n",
      "\u001b[0;31mValueError\u001b[0m: cannot set using a multi-index selection indexer with a different length than the value"
     ]
    }
   ],
   "source": [
    "df_day.loc[(last_time,'512880')]=[0 for x in range(len(df_day.columns))]"
   ]
  },
  {
   "cell_type": "code",
   "execution_count": null,
   "metadata": {},
   "outputs": [],
   "source": []
  }
 ],
 "metadata": {
  "kernelspec": {
   "display_name": "qawork",
   "language": "python",
   "name": "qawork"
  },
  "language_info": {
   "codemirror_mode": {
    "name": "ipython",
    "version": 3
   },
   "file_extension": ".py",
   "mimetype": "text/x-python",
   "name": "python",
   "nbconvert_exporter": "python",
   "pygments_lexer": "ipython3",
   "version": "3.7.7"
  }
 },
 "nbformat": 4,
 "nbformat_minor": 2
}
