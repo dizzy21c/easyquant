{
 "cells": [
  {
   "cell_type": "code",
   "execution_count": null,
   "metadata": {},
   "outputs": [],
   "source": [
    "from easyquant import MongoIo\n",
    "from easyquant.indicator.base import *\n",
    "import math\n",
    "import numpy as np\n",
    "import pandas as pd"
   ]
  },
  {
   "cell_type": "code",
   "execution_count": null,
   "metadata": {},
   "outputs": [],
   "source": [
    "m=MongoIo()"
   ]
  },
  {
   "cell_type": "code",
   "execution_count": 32,
   "metadata": {},
   "outputs": [],
   "source": [
    "data=m.get_stock_day('600822',st_start='2019-01-01', st_end='2019-12-07')"
   ]
  },
  {
   "cell_type": "code",
   "execution_count": 33,
   "metadata": {},
   "outputs": [],
   "source": [
    "C=data.close\n",
    "H=data.high\n",
    "L=data.low"
   ]
  },
  {
   "cell_type": "code",
   "execution_count": 34,
   "metadata": {},
   "outputs": [],
   "source": [
    "M=144\n",
    "N=13\n",
    "# A1=(C-MA(C,M))/MA(C,M)*100\n",
    "# N1=BARSLAST(CROSS(C,MA(C,M)))\n",
    "# N2=BARSLAST(CROSS(MA(C,M),C))\n",
    "# B1=IF(N1<N2,N1+1,0)\n",
    "# C1=HHV(A1,B1)\n"
   ]
  },
  {
   "cell_type": "code",
   "execution_count": 43,
   "metadata": {},
   "outputs": [],
   "source": [
    "N3 = BARSLAST(CROSS(C, MA(C, N)))\n",
    "N4 = BARSLAST(CROSS(MA(C, N), C))\n",
    "AA = IF(N3 < N4, N3 + 1, 0)\n",
    "BB = (C - REF(C, AA[-1])) / REF(C, AA[-1]) * 100\n",
    "MR = IFAND(AA == 1 , BB > AA,1,0)\n"
   ]
  },
  {
   "cell_type": "code",
   "execution_count": 42,
   "metadata": {},
   "outputs": [
    {
     "data": {
      "text/plain": [
       "date\n",
       "2019-12-02    0\n",
       "2019-12-03    0\n",
       "2019-12-04    0\n",
       "2019-12-05    0\n",
       "2019-12-06    0\n",
       "dtype: int32"
      ]
     },
     "execution_count": 42,
     "metadata": {},
     "output_type": "execute_result"
    }
   ],
   "source": [
    "BB.tail()"
   ]
  },
  {
   "cell_type": "code",
   "execution_count": 21,
   "metadata": {},
   "outputs": [
    {
     "ename": "AttributeError",
     "evalue": "'DatetimeIndex' object has no attribute 'len'",
     "output_type": "error",
     "traceback": [
      "\u001b[0;31m---------------------------------------------------------------------------\u001b[0m",
      "\u001b[0;31mAttributeError\u001b[0m                            Traceback (most recent call last)",
      "\u001b[0;32m<ipython-input-21-bedda9e6676c>\u001b[0m in \u001b[0;36m<module>\u001b[0;34m\u001b[0m\n\u001b[0;32m----> 1\u001b[0;31m \u001b[0mN\u001b[0m\u001b[0;34m.\u001b[0m\u001b[0mindex\u001b[0m\u001b[0;34m.\u001b[0m\u001b[0mlen\u001b[0m\u001b[0;34m(\u001b[0m\u001b[0;34m)\u001b[0m \u001b[0;34m-\u001b[0m \u001b[0mN\u001b[0m\u001b[0;34m\u001b[0m\u001b[0;34m\u001b[0m\u001b[0m\n\u001b[0m",
      "\u001b[0;31mAttributeError\u001b[0m: 'DatetimeIndex' object has no attribute 'len'"
     ]
    }
   ],
   "source": [
    "N.index - N"
   ]
  },
  {
   "cell_type": "code",
   "execution_count": null,
   "metadata": {},
   "outputs": [],
   "source": [
    "N.index - N"
   ]
  },
  {
   "cell_type": "code",
   "execution_count": 23,
   "metadata": {},
   "outputs": [
    {
     "data": {
      "text/plain": [
       "0"
      ]
     },
     "execution_count": 23,
     "metadata": {},
     "output_type": "execute_result"
    }
   ],
   "source": [
    "B1[0]"
   ]
  },
  {
   "cell_type": "code",
   "execution_count": null,
   "metadata": {},
   "outputs": [],
   "source": []
  },
  {
   "cell_type": "code",
   "execution_count": null,
   "metadata": {},
   "outputs": [],
   "source": []
  },
  {
   "cell_type": "code",
   "execution_count": null,
   "metadata": {},
   "outputs": [],
   "source": [
    "D1=(C-REF(C,B1[0]))/REF(C,B1)*100\n",
    "N3=BARSLAST(CROSS(C,MA(C,N)))\n",
    "N4=BARSLAST(CROSS(MA(C,N),C))\n",
    "AA=IF(N3<N4,N3+1,0)\n",
    "BB=(C-REF(C,AA))/REF(C,AA)*100,COLORRED\n",
    "MR=(AA == 1 and BB>AA)\n"
   ]
  },
  {
   "cell_type": "code",
   "execution_count": null,
   "metadata": {},
   "outputs": [],
   "source": [
    "COND2=#BB0=REF(QSX,1)<11 and CROSS(QSX,11) and C<ZX;\n",
    "BB01=IFAND(REF(QSX,1)<11,CROSS(QSX,11),True, False)\n",
    "BB0=IFAND(BB01,C<ZX,True, False)"
   ]
  },
  {
   "cell_type": "code",
   "execution_count": null,
   "metadata": {},
   "outputs": [],
   "source": [
    "COND1=BB01\n",
    "COND2=C<ZX"
   ]
  },
  {
   "cell_type": "code",
   "execution_count": null,
   "metadata": {},
   "outputs": [],
   "source": [
    "COND2[COND2.index>=COND1.index[0]]"
   ]
  },
  {
   "cell_type": "code",
   "execution_count": null,
   "metadata": {},
   "outputs": [],
   "source": [
    "type(COND1)"
   ]
  },
  {
   "cell_type": "code",
   "execution_count": null,
   "metadata": {},
   "outputs": [],
   "source": [
    "COND2.index"
   ]
  },
  {
   "cell_type": "code",
   "execution_count": null,
   "metadata": {},
   "outputs": [],
   "source": [
    "len(COND1)"
   ]
  },
  {
   "cell_type": "code",
   "execution_count": null,
   "metadata": {},
   "outputs": [],
   "source": [
    "len(COND2)"
   ]
  },
  {
   "cell_type": "code",
   "execution_count": null,
   "metadata": {},
   "outputs": [],
   "source": [
    "an[an.index>=BB01.index[0]]"
   ]
  },
  {
   "cell_type": "code",
   "execution_count": null,
   "metadata": {},
   "outputs": [],
   "source": [
    "C<ZX"
   ]
  },
  {
   "cell_type": "code",
   "execution_count": null,
   "metadata": {},
   "outputs": [],
   "source": [
    "AA1=(QSX<11)"
   ]
  },
  {
   "cell_type": "code",
   "execution_count": null,
   "metadata": {},
   "outputs": [],
   "source": [
    "AA2=FILTER((QSX<=11),15)"
   ]
  },
  {
   "cell_type": "code",
   "execution_count": null,
   "metadata": {},
   "outputs": [],
   "source": [
    "AA3= C<ZX"
   ]
  },
  {
   "cell_type": "code",
   "execution_count": null,
   "metadata": {},
   "outputs": [],
   "source": [
    "\n",
    "BB0=REF(QSX,1)<11 and CROSS(QSX,11) and C<ZX;\n",
    "BB1=REF(QSX,1)<11 and REF(QSX,1)>6 and CROSS(QSX,11);\n",
    "BB2=REF(QSX,1)<6 and REF(QSX,1)>3 and CROSS(QSX,6);\n",
    "BB3=REF(QSX,1)<3 and REF(QSX,1)>1 and CROSS(QSX,3);\n",
    "BB4=REF(QSX,1)<1 and REF(QSX,1)>0 and CROSS(QSX,1);\n",
    "BB5=REF(QSX,1)<0 and CROSS(QSX,0);\n",
    "BB=BB1=1 OR BB2=1 OR BB3=1 OR BB4=1 OR BB5=1;\n",
    "BUY:STICKLINE(BB=1 and C<ZX,11,52,1,0);\n",
    "DD0=REF(QSX,1)>89 and CROSS(89,QSX) and C>ZX;\n",
    "DD1=REF(QSX,1)>89 and REF(QSX,1)<94 and CROSS(89,QSX);\n",
    "DD2=REF(QSX,1)>94 and REF(QSX,1)<97 and CROSS(94,QSX);\n",
    "DD3=REF(QSX,1)>97 and REF(QSX,1)>99 and CROSS(97,QSX);\n",
    "DD4=REF(QSX,1)>99 and REF(QSX,1)<100 and CROSS(99,QSX);\n",
    "DD5=REF(QSX,1)>100 and CROSS(100,QSX);\n",
    "DD=DD1=1 OR DD2=1 OR DD3=1 OR DD4=1 OR DD5=1;\n",
    "SELL=STICKLINE(DD=1 and C>ZX,89,49,1,0);"
   ]
  },
  {
   "cell_type": "code",
   "execution_count": null,
   "metadata": {},
   "outputs": [],
   "source": []
  }
 ],
 "metadata": {
  "kernelspec": {
   "display_name": "py37",
   "language": "python",
   "name": "py37"
  },
  "language_info": {
   "codemirror_mode": {
    "name": "ipython",
    "version": 3
   },
   "file_extension": ".py",
   "mimetype": "text/x-python",
   "name": "python",
   "nbconvert_exporter": "python",
   "pygments_lexer": "ipython3",
   "version": "3.7.3"
  }
 },
 "nbformat": 4,
 "nbformat_minor": 2
}
