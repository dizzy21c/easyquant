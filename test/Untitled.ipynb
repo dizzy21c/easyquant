{
 "cells": [
  {
   "cell_type": "code",
   "execution_count": 1,
   "metadata": {},
   "outputs": [],
   "source": [
    "from easyquant import MongoIo\n",
    "from easyquant.indicator.base import *\n",
    "import easyquotation\n",
    "import math\n",
    "import numpy as np\n",
    "import pandas as pd\n",
    "from easyquant import MongoIo\n",
    "# from easyquant.qafetch import QATdx as tdx\n",
    "from easyquant.indicator.base import *\n",
    "import pandas as pd\n",
    "from easyquant import EasyTime\n",
    "from datetime import datetime, time\n",
    "from ctypes import * \n",
    "# import datetime\n",
    "import math\n",
    "import numpy as np\n",
    "import pandas as pd\n",
    "import talib\n",
    "from ctypes import * \n",
    "import QUANTAXIS as QA\n",
    "\n",
    "# import time"
   ]
  },
  {
   "cell_type": "code",
   "execution_count": 32,
   "metadata": {},
   "outputs": [],
   "source": [
    "m=MongoIo()\n",
    "source=easyquotation.use('sina')"
   ]
  },
  {
   "cell_type": "code",
   "execution_count": 131,
   "metadata": {},
   "outputs": [],
   "source": [
    "table = 'st_orders-%s' % 'tdx_yhzc'\n",
    "code='002614'"
   ]
  },
  {
   "cell_type": "code",
   "execution_count": 132,
   "metadata": {},
   "outputs": [],
   "source": []
  },
  {
   "cell_type": "code",
   "execution_count": 133,
   "metadata": {},
   "outputs": [],
   "source": [
    "newdata=source.stocks(code)[code]"
   ]
  },
  {
   "cell_type": "code",
   "execution_count": 134,
   "metadata": {},
   "outputs": [],
   "source": [
    "now_price = newdata['now']"
   ]
  },
  {
   "cell_type": "code",
   "execution_count": 110,
   "metadata": {},
   "outputs": [],
   "source": [
    "\n",
    "def new_df(df_day, data, now_price):\n",
    "    code = data['code']\n",
    "    # now_vol = data['volume']\n",
    "    last_time = pd.to_datetime(data['datetime'][0:10])\n",
    "    # print(\"code=%s, data=%s\" % (self.code, self._data['datetime']))\n",
    "    # df_day = data_buf_day[code]\n",
    "    # df_day.loc[last_time]=[0 for x in range(len(df_day.columns))]\n",
    "    df_day.at[(last_time, code), 'open'] = data['open']\n",
    "    df_day.at[(last_time, code), 'high'] = data['high']\n",
    "    df_day.at[(last_time, code), 'low'] = data['low']\n",
    "    df_day.at[(last_time, code), 'close'] = now_price\n",
    "    df_day.at[(last_time, code), 'volume'] = data['volume']\n",
    "    df_day.at[(last_time, code), 'amount'] = data['amount']\n",
    "    return df_day\n"
   ]
  },
  {
   "cell_type": "code",
   "execution_count": 142,
   "metadata": {},
   "outputs": [],
   "source": [
    "def tdx_dqe_cfc_A1(data, sort=False):\n",
    "    # 选择／排序\n",
    "    C = data.close\n",
    "    O = data.open\n",
    "    JC =IF(ISLASTBAR(C), O, C)\n",
    "    MC = (0.3609454219 * JC - 0.03309329629 * REF(C, 1) - 0.04241822779 * REF(C, 2) - 0.026737249 * REF(C, 3) \\\n",
    "           - 0.007010041271 * REF(C, 4) - 0.002652859952 * REF(C, 5) - 0.0008415042966 * REF(C, 6) \\\n",
    "           - 0.0002891931964 * REF(C, 7) - 0.0000956265934 * REF(C, 8) - 0.0000321286052 * REF(C, 9) \\\n",
    "           - 0.0000106773454 * REF(C, 10) - 0.0000035457562 * REF(C, 11) -- 0.0000011670713 * REF(C, 12)) / (1 - 0.7522406533)\n",
    "    # 竞价涨幅 := (DYNAINFO(4) / DYNAINFO(3) - 1) * 100;\n",
    "    竞价涨幅 = (C / REF(C, 1) - 1) * 100\n",
    "    # ST := STRFIND(stkname, 'ST', 1) > 0;\n",
    "    # S := STRFIND(stkname, 'S', 1) > 0;\n",
    "    # 停牌 := (DYNAINFO(4)=0);\n",
    "    #\n",
    "    # 附加条件 := (not (ST) and not (S) and NOT(停牌)) * (竞价涨幅 < 9.85) * (竞价涨幅 > (0));\n",
    "    附加条件 = IFAND(竞价涨幅 < 9.85, 竞价涨幅 > 0, 1, 0)\n",
    "    if sort:\n",
    "        刀 = (MC - JC) / JC * 1000\n",
    "    else:\n",
    "        刀 = (MC - JC) / JC * 1000 * 附加条件\n",
    "\n",
    "    return 刀"
   ]
  },
  {
   "cell_type": "code",
   "execution_count": 143,
   "metadata": {},
   "outputs": [],
   "source": [
    "def tdx_dqe_cfc_A12(data, sort=False):\n",
    "    # 选择／排序\n",
    "    C = data.close\n",
    "    O = data.open\n",
    "    JC =IF(ISLASTBAR(C), O, C)\n",
    "    MC = (0.3609454219 * JC - 0.03309329629 * REF(C, 1) - 0.04241822779 * REF(C, 2) - 0.026737249 * REF(C, 3) \\\n",
    "           - 0.007010041271 * REF(C, 4) - 0.002652859952 * REF(C, 5) - 0.0008415042966 * REF(C, 6) \\\n",
    "           - 0.0002891931964 * REF(C, 7) - 0.0000956265934 * REF(C, 8) - 0.0000321286052 * REF(C, 9) \\\n",
    "           - 0.0000106773454 * REF(C, 10) - 0.0000035457562 * REF(C, 11) -- 0.0000011670713 * REF(C, 12)) / (1 - 0.7522406533)\n",
    "    # 竞价涨幅 := (DYNAINFO(4) / DYNAINFO(3) - 1) * 100;\n",
    "    竞价涨幅 = (O / REF(C, 1) - 1) * 100\n",
    "    # ST := STRFIND(stkname, 'ST', 1) > 0;\n",
    "    # S := STRFIND(stkname, 'S', 1) > 0;\n",
    "    # 停牌 := (DYNAINFO(4)=0);\n",
    "    #\n",
    "    # 附加条件 := (not (ST) and not (S) and NOT(停牌)) * (竞价涨幅 < 9.85) * (竞价涨幅 > (0));\n",
    "    附加条件 = IFAND(竞价涨幅 < 9.85, 竞价涨幅 > 0, 1, 0)\n",
    "    if sort:\n",
    "        刀 = (MC - JC) / JC * 1000\n",
    "    else:\n",
    "        刀 = (MC - JC) / JC * 1000 * 附加条件\n",
    "\n",
    "    return 刀"
   ]
  },
  {
   "cell_type": "code",
   "execution_count": 135,
   "metadata": {},
   "outputs": [],
   "source": [
    "data = new_df(data.copy(), newdata, now_price)"
   ]
  },
  {
   "cell_type": "code",
   "execution_count": 151,
   "metadata": {},
   "outputs": [
    {
     "data": {
      "text/html": [
       "<div>\n",
       "<style scoped>\n",
       "    .dataframe tbody tr th:only-of-type {\n",
       "        vertical-align: middle;\n",
       "    }\n",
       "\n",
       "    .dataframe tbody tr th {\n",
       "        vertical-align: top;\n",
       "    }\n",
       "\n",
       "    .dataframe thead th {\n",
       "        text-align: right;\n",
       "    }\n",
       "</style>\n",
       "<table border=\"1\" class=\"dataframe\">\n",
       "  <thead>\n",
       "    <tr style=\"text-align: right;\">\n",
       "      <th></th>\n",
       "      <th></th>\n",
       "      <th>open</th>\n",
       "      <th>high</th>\n",
       "      <th>low</th>\n",
       "      <th>close</th>\n",
       "      <th>volume</th>\n",
       "      <th>amount</th>\n",
       "    </tr>\n",
       "    <tr>\n",
       "      <th>date</th>\n",
       "      <th>code</th>\n",
       "      <th></th>\n",
       "      <th></th>\n",
       "      <th></th>\n",
       "      <th></th>\n",
       "      <th></th>\n",
       "      <th></th>\n",
       "    </tr>\n",
       "  </thead>\n",
       "  <tbody>\n",
       "    <tr>\n",
       "      <th>2020-11-02</th>\n",
       "      <th>300063</th>\n",
       "      <td>7.55</td>\n",
       "      <td>7.76</td>\n",
       "      <td>7.21</td>\n",
       "      <td>7.35</td>\n",
       "      <td>4.516050e+05</td>\n",
       "      <td>335985120.0</td>\n",
       "    </tr>\n",
       "    <tr>\n",
       "      <th>2020-11-03</th>\n",
       "      <th>300063</th>\n",
       "      <td>7.50</td>\n",
       "      <td>7.60</td>\n",
       "      <td>7.30</td>\n",
       "      <td>7.53</td>\n",
       "      <td>4.213430e+05</td>\n",
       "      <td>315340608.0</td>\n",
       "    </tr>\n",
       "    <tr>\n",
       "      <th>2020-11-04</th>\n",
       "      <th>300063</th>\n",
       "      <td>7.50</td>\n",
       "      <td>7.53</td>\n",
       "      <td>7.11</td>\n",
       "      <td>7.21</td>\n",
       "      <td>4.484330e+05</td>\n",
       "      <td>326091040.0</td>\n",
       "    </tr>\n",
       "    <tr>\n",
       "      <th>2020-11-05</th>\n",
       "      <th>300063</th>\n",
       "      <td>7.35</td>\n",
       "      <td>7.61</td>\n",
       "      <td>7.30</td>\n",
       "      <td>7.43</td>\n",
       "      <td>4.439240e+05</td>\n",
       "      <td>330125216.0</td>\n",
       "    </tr>\n",
       "    <tr>\n",
       "      <th>2020-11-06</th>\n",
       "      <th>300063</th>\n",
       "      <td>7.90</td>\n",
       "      <td>8.19</td>\n",
       "      <td>7.48</td>\n",
       "      <td>7.90</td>\n",
       "      <td>5.602389e+08</td>\n",
       "      <td>72013755.0</td>\n",
       "    </tr>\n",
       "  </tbody>\n",
       "</table>\n",
       "</div>"
      ],
      "text/plain": [
       "                   open  high   low  close        volume       amount\n",
       "date       code                                                      \n",
       "2020-11-02 300063  7.55  7.76  7.21   7.35  4.516050e+05  335985120.0\n",
       "2020-11-03 300063  7.50  7.60  7.30   7.53  4.213430e+05  315340608.0\n",
       "2020-11-04 300063  7.50  7.53  7.11   7.21  4.484330e+05  326091040.0\n",
       "2020-11-05 300063  7.35  7.61  7.30   7.43  4.439240e+05  330125216.0\n",
       "2020-11-06 300063  7.90  8.19  7.48   7.90  5.602389e+08   72013755.0"
      ]
     },
     "execution_count": 151,
     "metadata": {},
     "output_type": "execute_result"
    }
   ],
   "source": [
    "# today\n",
    "code='300063'\n",
    "data=m.get_stock_day(code)\n",
    "newdata=source.stocks(code)[code]\n",
    "now_price = newdata['now']\n",
    "data = new_df(data.copy(), newdata, now_price)\n",
    "data.iat[-1,3]=newdata['open']\n",
    "data.tail()\n",
    "C = data.close\n",
    "O = data.open\n",
    "V = data.volume\n",
    "H = data.high\n",
    "L = data.low\n"
   ]
  },
  {
   "cell_type": "code",
   "execution_count": 152,
   "metadata": {},
   "outputs": [],
   "source": []
  },
  {
   "cell_type": "code",
   "execution_count": 155,
   "metadata": {},
   "outputs": [
    {
     "data": {
      "text/plain": [
       "date        code  \n",
       "2020-11-02  300063    -0.000000\n",
       "2020-11-03  300063    -6.815362\n",
       "2020-11-04  300063    -0.000000\n",
       "2020-11-05  300063     1.122186\n",
       "2020-11-06  300063    30.333110\n",
       "dtype: float64"
      ]
     },
     "execution_count": 155,
     "metadata": {},
     "output_type": "execute_result"
    }
   ],
   "source": [
    "TJ1=IFAND(O > REF(MA(C, 5), 1),  O > REF(MA(C, 10), 1), True, False).tail()\n",
    "TJ2=(COUNT(REF(V, 1) / REF(V, 2) > 6, 10) == 0).tail()\n",
    "tdx_dqe_cfc_A1(data).tail()"
   ]
  },
  {
   "cell_type": "code",
   "execution_count": 156,
   "metadata": {},
   "outputs": [
    {
     "data": {
      "text/plain": [
       "date        code  \n",
       "2020-11-02  300063    False\n",
       "2020-11-03  300063    False\n",
       "2020-11-04  300063    False\n",
       "2020-11-05  300063    False\n",
       "2020-11-06  300063     True\n",
       "dtype: bool"
      ]
     },
     "execution_count": 156,
     "metadata": {},
     "output_type": "execute_result"
    }
   ],
   "source": [
    "TJ1"
   ]
  },
  {
   "cell_type": "code",
   "execution_count": 157,
   "metadata": {},
   "outputs": [
    {
     "data": {
      "text/plain": [
       "date        code  \n",
       "2020-11-02  300063    True\n",
       "2020-11-03  300063    True\n",
       "2020-11-04  300063    True\n",
       "2020-11-05  300063    True\n",
       "2020-11-06  300063    True\n",
       "dtype: bool"
      ]
     },
     "execution_count": 157,
     "metadata": {},
     "output_type": "execute_result"
    }
   ],
   "source": [
    "TJ2"
   ]
  },
  {
   "cell_type": "code",
   "execution_count": null,
   "metadata": {},
   "outputs": [],
   "source": []
  },
  {
   "cell_type": "code",
   "execution_count": null,
   "metadata": {},
   "outputs": [],
   "source": [
    "300208    14.250414\n",
    "300538    33.348295\n",
    "300050    20.557449\n",
    "002614    24.505901\n",
    "300063    30.333110"
   ]
  },
  {
   "cell_type": "code",
   "execution_count": 170,
   "metadata": {},
   "outputs": [
    {
     "data": {
      "text/html": [
       "<div>\n",
       "<style scoped>\n",
       "    .dataframe tbody tr th:only-of-type {\n",
       "        vertical-align: middle;\n",
       "    }\n",
       "\n",
       "    .dataframe tbody tr th {\n",
       "        vertical-align: top;\n",
       "    }\n",
       "\n",
       "    .dataframe thead th {\n",
       "        text-align: right;\n",
       "    }\n",
       "</style>\n",
       "<table border=\"1\" class=\"dataframe\">\n",
       "  <thead>\n",
       "    <tr style=\"text-align: right;\">\n",
       "      <th></th>\n",
       "      <th></th>\n",
       "      <th>open</th>\n",
       "      <th>high</th>\n",
       "      <th>low</th>\n",
       "      <th>close</th>\n",
       "      <th>volume</th>\n",
       "      <th>amount</th>\n",
       "    </tr>\n",
       "    <tr>\n",
       "      <th>date</th>\n",
       "      <th>code</th>\n",
       "      <th></th>\n",
       "      <th></th>\n",
       "      <th></th>\n",
       "      <th></th>\n",
       "      <th></th>\n",
       "      <th></th>\n",
       "    </tr>\n",
       "  </thead>\n",
       "  <tbody>\n",
       "    <tr>\n",
       "      <th>2020-10-30</th>\n",
       "      <th>300464</th>\n",
       "      <td>19.71</td>\n",
       "      <td>19.82</td>\n",
       "      <td>18.74</td>\n",
       "      <td>18.90</td>\n",
       "      <td>85436.0</td>\n",
       "      <td>164673808.0</td>\n",
       "    </tr>\n",
       "    <tr>\n",
       "      <th>2020-11-02</th>\n",
       "      <th>300464</th>\n",
       "      <td>18.85</td>\n",
       "      <td>19.19</td>\n",
       "      <td>18.19</td>\n",
       "      <td>18.73</td>\n",
       "      <td>58826.0</td>\n",
       "      <td>109639112.0</td>\n",
       "    </tr>\n",
       "    <tr>\n",
       "      <th>2020-11-03</th>\n",
       "      <th>300464</th>\n",
       "      <td>18.79</td>\n",
       "      <td>19.50</td>\n",
       "      <td>18.72</td>\n",
       "      <td>19.26</td>\n",
       "      <td>64459.0</td>\n",
       "      <td>123776456.0</td>\n",
       "    </tr>\n",
       "    <tr>\n",
       "      <th>2020-11-04</th>\n",
       "      <th>300464</th>\n",
       "      <td>19.36</td>\n",
       "      <td>19.44</td>\n",
       "      <td>18.80</td>\n",
       "      <td>19.19</td>\n",
       "      <td>60066.0</td>\n",
       "      <td>114918648.0</td>\n",
       "    </tr>\n",
       "    <tr>\n",
       "      <th>2020-11-05</th>\n",
       "      <th>300464</th>\n",
       "      <td>20.00</td>\n",
       "      <td>21.80</td>\n",
       "      <td>19.87</td>\n",
       "      <td>20.76</td>\n",
       "      <td>236941.0</td>\n",
       "      <td>488547616.0</td>\n",
       "    </tr>\n",
       "  </tbody>\n",
       "</table>\n",
       "</div>"
      ],
      "text/plain": [
       "                    open   high    low  close    volume       amount\n",
       "date       code                                                     \n",
       "2020-10-30 300464  19.71  19.82  18.74  18.90   85436.0  164673808.0\n",
       "2020-11-02 300464  18.85  19.19  18.19  18.73   58826.0  109639112.0\n",
       "2020-11-03 300464  18.79  19.50  18.72  19.26   64459.0  123776456.0\n",
       "2020-11-04 300464  19.36  19.44  18.80  19.19   60066.0  114918648.0\n",
       "2020-11-05 300464  20.00  21.80  19.87  20.76  236941.0  488547616.0"
      ]
     },
     "execution_count": 170,
     "metadata": {},
     "output_type": "execute_result"
    }
   ],
   "source": [
    "# back:\n",
    "code='300464'\n",
    "data=m.get_stock_day(code)\n",
    "\n",
    "C = data.close\n",
    "O = data.open\n",
    "V = data.volume\n",
    "H = data.high\n",
    "L = data.low\n",
    "data.tail()"
   ]
  },
  {
   "cell_type": "code",
   "execution_count": 171,
   "metadata": {},
   "outputs": [
    {
     "data": {
      "text/plain": [
       "date        code  \n",
       "2020-10-30  300464    -0.000000\n",
       "2020-11-02  300464    -0.000000\n",
       "2020-11-03  300464     2.975439\n",
       "2020-11-04  300464     3.961511\n",
       "2020-11-05  300464    20.358610\n",
       "dtype: float64"
      ]
     },
     "execution_count": 171,
     "metadata": {},
     "output_type": "execute_result"
    }
   ],
   "source": [
    "TJ1=IFAND(O > REF(MA(C, 5), 1),  O > REF(MA(C, 10), 1), True, False).tail()\n",
    "TJ2=(COUNT(REF(V, 1) / REF(V, 2) > 6, 10) == 0).tail()\n",
    "tdx_dqe_cfc_A12(data).tail()"
   ]
  },
  {
   "cell_type": "code",
   "execution_count": 172,
   "metadata": {},
   "outputs": [
    {
     "data": {
      "text/plain": [
       "date        code  \n",
       "2020-10-30  300464    False\n",
       "2020-11-02  300464    False\n",
       "2020-11-03  300464    False\n",
       "2020-11-04  300464    False\n",
       "2020-11-05  300464     True\n",
       "dtype: bool"
      ]
     },
     "execution_count": 172,
     "metadata": {},
     "output_type": "execute_result"
    }
   ],
   "source": [
    "TJ1"
   ]
  },
  {
   "cell_type": "code",
   "execution_count": 173,
   "metadata": {},
   "outputs": [
    {
     "data": {
      "text/plain": [
       "date        code  \n",
       "2020-10-30  300464    True\n",
       "2020-11-02  300464    True\n",
       "2020-11-03  300464    True\n",
       "2020-11-04  300464    True\n",
       "2020-11-05  300464    True\n",
       "dtype: bool"
      ]
     },
     "execution_count": 173,
     "metadata": {},
     "output_type": "execute_result"
    }
   ],
   "source": [
    "TJ2"
   ]
  },
  {
   "cell_type": "code",
   "execution_count": null,
   "metadata": {},
   "outputs": [],
   "source": []
  }
 ],
 "metadata": {
  "kernelspec": {
   "display_name": "qawork",
   "language": "python",
   "name": "qawork"
  },
  "language_info": {
   "codemirror_mode": {
    "name": "ipython",
    "version": 3
   },
   "file_extension": ".py",
   "mimetype": "text/x-python",
   "name": "python",
   "nbconvert_exporter": "python",
   "pygments_lexer": "ipython3",
   "version": "3.7.7"
  }
 },
 "nbformat": 4,
 "nbformat_minor": 2
}
