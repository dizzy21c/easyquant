{
 "cells": [
  {
   "cell_type": "code",
   "execution_count": null,
   "metadata": {},
   "outputs": [],
   "source": [
    "import os\n",
    "import struct\n",
    "import pandas as pd\n",
    "import numpy as np\n",
    "import talib as tdx"
   ]
  },
  {
   "cell_type": "code",
   "execution_count": null,
   "metadata": {},
   "outputs": [],
   "source": [
    "def readTdxLdayFile(fname=\"data/sh000001.day\"):\n",
    "  dataSet=[]\n",
    "  with open(fname,'rb') as fl:\n",
    "    buffer=fl.read() #读取数据到缓存\n",
    "    size=len(buffer) \n",
    "    rowSize=32 #通信达day数据，每32个字节一组数据\n",
    "    code=os.path.basename(fname).replace('.day','')\n",
    "    for i in range(0,size,rowSize): #步长为32遍历buffer\n",
    "      row=list( struct.unpack('IIIIIfII',buffer[i:i+rowSize]) )\n",
    "      row[1]=row[1]/100\n",
    "      row[2]=row[2]/100\n",
    "      row[3]=row[3]/100\n",
    "      row[4]=row[4]/100\n",
    "      row.pop() #移除最后无意义字段\n",
    "      row.insert(0,code)\n",
    "      dataSet.append(row) \n",
    "\n",
    "  data=pd.DataFrame(data=dataSet,columns=['code','tradeDate','open','high','low','close','amount','vol'])\n",
    "#   data=data.set_index(['tradeDate'])\n",
    "  return code, data\n"
   ]
  },
  {
   "cell_type": "code",
   "execution_count": null,
   "metadata": {},
   "outputs": [],
   "source": [
    "def select1(code, data):\n",
    "    # 连续三日缩量\n",
    "    cn = data.close.iloc[-1]\n",
    "    ch= data.close.iloc[-1] * 1.1\n",
    "    cl= data.close.iloc[-1] * 0.9\n",
    "#     ch= data.close * 1.1\n",
    "#     cl = data.close * 0.9\n",
    "    \n",
    "#     df=pd.concat([tdx.MA(data.close, x) for x in (5,10,20,30,60,90,120,250,500,750,1000,1500,2000,2500,) ], axis = 1).dropna()[-1:]\n",
    "    df=pd.concat([tdx.MA(data.close, x) for x in (5,10,20,30,60,90,120,250,500,750,1000,1500,2000,2500,) ], axis = 1)[-1:]\n",
    "    df.columns = [u'm5',u'm10',u'm20',u'm30',u'm60',u'm90',u'm120', u'm250', u'm500', u'm750', u'm1000', u'm1500', u'm2000', u'm2500']  \n",
    "    df_c = df.m5 > df.m10\n",
    "    df_h = df.apply(lambda x:cn > x ,  axis = 1 )\n",
    "    df_l = df.apply(lambda x:x.min() >= cl,  axis = 1 )\n",
    "    \n",
    "    df['dfh'] = df_h\n",
    "    df['dfl'] = df_l\n",
    "    df['code'] =code\n",
    "#     out=df.iloc[-1].apply(lambda x: True if x>cl and x < ch else False)\n",
    "    df=df.reset_index('tradeDate')\n",
    "    df=df.set_index(['code','tradeDate'])\n",
    "    return df\n"
   ]
  },
  {
   "cell_type": "code",
   "execution_count": null,
   "metadata": {},
   "outputs": [],
   "source": [
    "def readPath(path):\n",
    "  files = os.listdir(path)\n",
    "  # codes=[]\n",
    "  # dataSet=[]\n",
    "  output=pd.DataFrame()\n",
    "  for i in range(0,len(files)):\n",
    "    fname = os.path.join(path,files[i])\n",
    "    if os.path.isdir(fname):\n",
    "      continue\n",
    "    code, df = readTdxLdayFile(fname)\n",
    "    cdf = select1(code, df)\n",
    "    if cdf is not None:\n",
    "      output=output.append(cdf)\n",
    "  # data=pd.DataFrame(data=dataSet,columns=['code','tradeDate','open','high','low','close','amount','vol'])\n",
    "  # data=data.set_index(['code','tradeDate'])\n",
    "  return output\n"
   ]
  },
  {
   "cell_type": "code",
   "execution_count": null,
   "metadata": {},
   "outputs": [],
   "source": [
    "output=readPath('data') #读取目录下面的所有文件"
   ]
  },
  {
   "cell_type": "code",
   "execution_count": null,
   "metadata": {},
   "outputs": [],
   "source": [
    "code, df = readTdxLdayFile('/home/zhangjx/backup/bk/easyquant/tdx/data/sh000001.day')"
   ]
  },
  {
   "cell_type": "code",
   "execution_count": null,
   "metadata": {},
   "outputs": [],
   "source": [
    "df"
   ]
  },
  {
   "cell_type": "code",
   "execution_count": null,
   "metadata": {},
   "outputs": [],
   "source": [
    "da=data_df.reset_index('tradeDate')"
   ]
  },
  {
   "cell_type": "code",
   "execution_count": null,
   "metadata": {},
   "outputs": [],
   "source": [
    "import datetime"
   ]
  },
  {
   "cell_type": "code",
   "execution_count": null,
   "metadata": {},
   "outputs": [],
   "source": [
    "pd.to_datetime(da.tradeDate)"
   ]
  },
  {
   "cell_type": "code",
   "execution_count": null,
   "metadata": {},
   "outputs": [],
   "source": [
    "# data_df.to_csv('test.csv')"
   ]
  },
  {
   "cell_type": "code",
   "execution_count": null,
   "metadata": {},
   "outputs": [],
   "source": [
    "data_df.index[,-1:-1]"
   ]
  },
  {
   "cell_type": "code",
   "execution_count": null,
   "metadata": {},
   "outputs": [],
   "source": [
    "def select1(code,data):\n",
    "    # 连续三日缩量\n",
    "    ch= data.close.iloc[-1] * 1.1\n",
    "    cl= data.close.iloc[-1] * 0.9\n",
    "#     ch= data.close * 1.1\n",
    "#     cl = data.close * 0.9\n",
    "    \n",
    "    df=pd.concat([tdx.MA(data.close, x) for x in (5,10,20,30,60,90,120,250) ], axis = 1).dropna()[-1:]\n",
    "    df.columns = [u'm5',u'm10',u'm20',u'm30',u'm60',u'm90',u'm120', u'm250']  \n",
    "    df_h = df.apply(lambda x:x.max() <= ch,  axis = 1 )\n",
    "    df_l = df.apply(lambda x:x.min() >= cl,  axis = 1 )\n",
    "    \n",
    "    df['dfh'] = df_h\n",
    "    df['dfl'] = df_l\n",
    "    df['code'] =code\n",
    "#     out=df.iloc[-1].apply(lambda x: True if x>cl and x < ch else False)\n",
    "    df=df.reset_index('tradeDate')\n",
    "    df=df.set_index(['code','tradeDate'])\n",
    "    return df\n"
   ]
  },
  {
   "cell_type": "code",
   "execution_count": null,
   "metadata": {},
   "outputs": [],
   "source": [
    "bbb=select1('sh000001',data_df.loc['sh000001',])"
   ]
  },
  {
   "cell_type": "code",
   "execution_count": null,
   "metadata": {},
   "outputs": [],
   "source": [
    "bbb"
   ]
  },
  {
   "cell_type": "code",
   "execution_count": null,
   "metadata": {},
   "outputs": [],
   "source": [
    "bbb=bbb.set_index(['code','tradeDate'])"
   ]
  },
  {
   "cell_type": "code",
   "execution_count": null,
   "metadata": {},
   "outputs": [],
   "source": [
    "data=bbb.set_index(['code','tradeDate'])"
   ]
  },
  {
   "cell_type": "code",
   "execution_count": null,
   "metadata": {},
   "outputs": [],
   "source": [
    "output=None\n",
    "for code in codes:\n",
    "  aaa=data_df.loc[code,]\n",
    "  out=select1(code, aaa)\n",
    "  if output is None:\n",
    "    output = out\n",
    "  else:\n",
    "#     print(code)\n",
    "    output=output.append(out)"
   ]
  },
  {
   "cell_type": "code",
   "execution_count": null,
   "metadata": {},
   "outputs": [],
   "source": []
  },
  {
   "cell_type": "code",
   "execution_count": null,
   "metadata": {},
   "outputs": [],
   "source": [
    "output"
   ]
  },
  {
   "cell_type": "code",
   "execution_count": null,
   "metadata": {},
   "outputs": [],
   "source": [
    "output.query('dfh==True and dfl==True').to_csv('out1.csv')"
   ]
  },
  {
   "cell_type": "code",
   "execution_count": null,
   "metadata": {},
   "outputs": [],
   "source": [
    "bb=select1('000001',aaa)"
   ]
  },
  {
   "cell_type": "code",
   "execution_count": null,
   "metadata": {},
   "outputs": [],
   "source": [
    "type(bb)"
   ]
  },
  {
   "cell_type": "code",
   "execution_count": null,
   "metadata": {},
   "outputs": [],
   "source": [
    "import talib as tdx"
   ]
  },
  {
   "cell_type": "code",
   "execution_count": null,
   "metadata": {},
   "outputs": [],
   "source": []
  },
  {
   "cell_type": "code",
   "execution_count": null,
   "metadata": {},
   "outputs": [],
   "source": [
    "aaa=pd.read_csv('test.csv')"
   ]
  },
  {
   "cell_type": "code",
   "execution_count": null,
   "metadata": {},
   "outputs": [],
   "source": [
    "aaa.set_index('vol').sort_index()"
   ]
  },
  {
   "cell_type": "code",
   "execution_count": null,
   "metadata": {},
   "outputs": [],
   "source": []
  },
  {
   "cell_type": "code",
   "execution_count": null,
   "metadata": {},
   "outputs": [],
   "source": [
    "df=readTdxLdayFile()\n",
    "df['mon'] = df.tradeDate.apply(lambda x : str(x)[0:6])\n",
    "df=df.set_index(['tradeDate'])"
   ]
  },
  {
   "cell_type": "code",
   "execution_count": null,
   "metadata": {},
   "outputs": [],
   "source": [
    "dfmax=df.groupby(['mon']).apply(lambda x: x[x.high ==x.high.max()])\n",
    "dfmax.drop_duplicates(subset=['high','mon'],keep='first',inplace=True)\n",
    "dfmin=df.groupby(['mon']).apply(lambda x: x[x.low ==x.low.min()])\n",
    "dfmin.drop_duplicates(subset=['low','mon'],keep='first',inplace=True)"
   ]
  },
  {
   "cell_type": "code",
   "execution_count": null,
   "metadata": {},
   "outputs": [],
   "source": [
    "dfmax.to_csv('max.csv')"
   ]
  },
  {
   "cell_type": "code",
   "execution_count": null,
   "metadata": {},
   "outputs": [],
   "source": [
    "dfmin.to_csv('min.csv')"
   ]
  },
  {
   "cell_type": "code",
   "execution_count": null,
   "metadata": {},
   "outputs": [],
   "source": [
    "dfmax"
   ]
  },
  {
   "cell_type": "code",
   "execution_count": null,
   "metadata": {},
   "outputs": [],
   "source": [
    "for x in dfmax.index:\n",
    "  print(df.loc[x[1]])"
   ]
  },
  {
   "cell_type": "code",
   "execution_count": null,
   "metadata": {},
   "outputs": [],
   "source": []
  }
 ],
 "metadata": {
  "kernelspec": {
   "display_name": "Python 3",
   "language": "python",
   "name": "python3"
  },
  "language_info": {
   "codemirror_mode": {
    "name": "ipython",
    "version": 3
   },
   "file_extension": ".py",
   "mimetype": "text/x-python",
   "name": "python",
   "nbconvert_exporter": "python",
   "pygments_lexer": "ipython3",
   "version": "3.7.3"
  }
 },
 "nbformat": 4,
 "nbformat_minor": 4
}